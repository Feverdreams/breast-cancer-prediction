{
 "cells": [
  {
   "cell_type": "code",
   "execution_count": 1,
   "metadata": {},
   "outputs": [
    {
     "data": {
      "text/plain": [
       "<module 'RegularizedLogisticRegression' from '/Users/calebziems/Documents/SCHOOL/Machine Learning/breast-cancer-prediction/src/RegularizedLogisticRegression.py'>"
      ]
     },
     "execution_count": 1,
     "metadata": {},
     "output_type": "execute_result"
    }
   ],
   "source": [
    "from preprocess import load_data\n",
    "import numpy as np\n",
    "import RegularizedLogisticRegression\n",
    "from random import randint\n",
    "import pandas as pd\n",
    "import matplotlib.pyplot as plt\n",
    "from sklearn.utils import shuffle\n",
    "from sklearn.ensemble import GradientBoostingClassifier\n",
    "#Using 7 baseline methods to predict and compute results' AUC.\n",
    "from sklearn.linear_model import LogisticRegression, SGDClassifier\n",
    "from sklearn.svm import SVC\n",
    "from sklearn.neighbors import KNeighborsClassifier\n",
    "from sklearn.metrics import roc_curve, auc\n",
    "from sklearn.naive_bayes import GaussianNB\n",
    "from sklearn.tree import DecisionTreeClassifier\n",
    "from sklearn.ensemble import RandomForestClassifier\n",
    "from sklearn.neural_network import  MLPClassifier\n",
    "import glob\n",
    "from sklearn.preprocessing import LabelEncoder, OneHotEncoder, StandardScaler\n",
    "\n",
    "import importlib\n",
    "import preprocess\n",
    "importlib.reload(RegularizedLogisticRegression)"
   ]
  },
  {
   "cell_type": "code",
   "execution_count": 2,
   "metadata": {
    "collapsed": true
   },
   "outputs": [],
   "source": [
    "key = ['CELLULARITY_0', 'CELLULARITY_1', 'CELLULARITY_2', 'CELLULARITY_3', \n",
    "       'CHEMOTHERAPY_0', 'CHEMOTHERAPY_1', \n",
    "       'COHORT_1', 'COHORT_2', 'COHORT_3', 'COHORT_4', 'COHORT_5',\n",
    "       'ER_IHC_0', 'ER_IHC_1', 'ER_IHC_2',\n",
    "       'HER2_SNP6_0', 'HER2_SNP6_1', 'HER2_SNP6_2', 'HER2_SNP6_3',\n",
    "       'HORMONE_THERAPY_0', 'HORMONE_THERAPY_1',\n",
    "       'INFERRED_MENOPAUSAL_STATE_0', 'INFERRED_MENOPAUSAL_STATE_1',\n",
    "       'INTCLUST_0', 'INTCLUST_1', 'INTCLUST_2', 'INTCLUST_3', 'INTCLUST_4', 'INTCLUST_5', 'INTCLUST_6', 'INTCLUST_7', 'INTCLUST_8', 'INTCLUST_9', 'INTCLUST_10',\n",
    "       'CLAUDIN_SUBTYPE_0', 'CLAUDIN_SUBTYPE_1', 'CLAUDIN_SUBTYPE_2', 'CLAUDIN_SUBTYPE_3', 'CLAUDIN_SUBTYPE_4', 'CLAUDIN_SUBTYPE_5', 'CLAUDIN_SUBTYPE_6', \n",
    "       'THREEGENE_0', 'THREEGENE_1', 'THREEGENE_2', 'THREEGENE_3', 'THREEGENE_4',\n",
    "       'LATERALITY_0', 'LATERALITY_1', 'LATERALITY_2',\n",
    "       'RADIO_THERAPY_0', 'RADIO_THERAPY_1',\n",
    "       'HISTOLOGICAL_SUBTYPE_0', 'HISTOLOGICAL_SUBTYPE_1', 'HISTOLOGICAL_SUBTYPE_2', 'HISTOLOGICAL_SUBTYPE_3', 'HISTOLOGICAL_SUBTYPE_4', 'HISTOLOGICAL_SUBTYPE_5', 'HISTOLOGICAL_SUBTYPE_6', 'HISTOLOGICAL_SUBTYPE_7', 'HISTOLOGICAL_SUBTYPE_8',\n",
    "       'BREAST_SURGERY_0', 'BREAST_SURGERY_1', 'BREAST_SURGERY_2',\n",
    "       'LYMPH_NODES_EXAMINED_POSITIVE', 'NPI', 'AGE_AT_DIAGNOSIS'\n",
    "      ]"
   ]
  },
  {
   "cell_type": "code",
   "execution_count": 3,
   "metadata": {
    "collapsed": true
   },
   "outputs": [],
   "source": [
    "Ctr_X, Ctr_Y, Cval_X, Cval_Y, Ct_X, Ct_Y, Gtr_X, Gtr_Y, Gval_X, Gval_Y, Gt_X, Gt_Y = preprocess.load_data(False)"
   ]
  },
  {
   "cell_type": "code",
   "execution_count": 4,
   "metadata": {
    "collapsed": true
   },
   "outputs": [],
   "source": [
    "C_X = np.concatenate([Ctr_X, Cval_X])\n",
    "C_Y = np.concatenate([Ctr_Y, Cval_Y])\n",
    "\n",
    "G_X = np.concatenate([Gtr_X, Gval_X])\n",
    "G_Y = np.concatenate([Gtr_Y, Gval_Y])"
   ]
  },
  {
   "cell_type": "code",
   "execution_count": 5,
   "metadata": {
    "collapsed": true
   },
   "outputs": [],
   "source": [
    "def roc_score(clf, type, X, Y, X_val, Y_val):\n",
    "    clf.fit(X, Y)\n",
    "    y_pred = clf.predict(X_val)\n",
    "    fpr, tpr, thresholds = roc_curve(Y_val, y_pred)\n",
    "    a = auc(fpr, tpr)\n",
    "    print(type, \"ROC AUC: \", a)\n",
    "    return a"
   ]
  },
  {
   "cell_type": "markdown",
   "metadata": {},
   "source": [
    "# KNN"
   ]
  },
  {
   "cell_type": "code",
   "execution_count": 6,
   "metadata": {},
   "outputs": [
    {
     "name": "stdout",
     "output_type": "stream",
     "text": [
      "Clinical (validation) k=19 ROC AUC:  0.5868191721132898\n",
      "Clinical (validation) k=57 ROC AUC:  0.6061002178649237\n",
      "Clinical (validation) k=12 ROC AUC:  0.5825708061002179\n",
      "Clinical (validation) k=25 ROC AUC:  0.6044662309368193\n",
      "Clinical (validation) k=41 ROC AUC:  0.60359477124183\n",
      "average: 0.5967102396514161\n"
     ]
    }
   ],
   "source": [
    "scores = np.zeros(5)\n",
    "for i, filename in enumerate(glob.glob('CV/KNN/*clinical*.txt')):\n",
    "    with open(filename, 'r') as file:\n",
    "        p_star, p_opt = file.readline().split()\n",
    "        clf = KNeighborsClassifier(n_neighbors=int(p_star))\n",
    "        scores[i] = roc_score(clf, 'Clinical (validation) k='+p_star, Ctr_X, Ctr_Y, Cval_X, Cval_Y)\n",
    "        \n",
    "print(\"average:\", np.mean(scores))"
   ]
  },
  {
   "cell_type": "code",
   "execution_count": 7,
   "metadata": {},
   "outputs": [
    {
     "name": "stdout",
     "output_type": "stream",
     "text": [
      "Clinical (test) k=41 ROC AUC:  0.5581102722489133\n"
     ]
    },
    {
     "data": {
      "text/plain": [
       "0.5581102722489133"
      ]
     },
     "execution_count": 7,
     "metadata": {},
     "output_type": "execute_result"
    }
   ],
   "source": [
    "clf = KNeighborsClassifier(n_neighbors=57)\n",
    "roc_score(clf, 'Clinical (test) k='+p_star, C_X, C_Y, Ct_X, Ct_Y)"
   ]
  },
  {
   "cell_type": "code",
   "execution_count": 8,
   "metadata": {},
   "outputs": [
    {
     "name": "stdout",
     "output_type": "stream",
     "text": [
      "Genomic (validation) k=21 ROC AUC:  0.5\n",
      "Genomic (validation) k=7 ROC AUC:  0.5218954248366013\n",
      "Genomic (validation) k=99 ROC AUC:  0.5\n",
      "Genomic (validation) k=99 ROC AUC:  0.5\n",
      "Genomic (validation) k=3 ROC AUC:  0.5118736383442265\n",
      "average: 0.5067538126361655\n"
     ]
    }
   ],
   "source": [
    "scores = np.zeros(5)\n",
    "for i, filename in enumerate(glob.glob('CV/KNN/*genomic*.txt')):\n",
    "    with open(filename, 'r') as file:\n",
    "        p_star, p_opt = file.readline().split()\n",
    "        clf = KNeighborsClassifier(n_neighbors=int(p_star))\n",
    "        scores[i] = roc_score(clf, 'Genomic (validation) k='+p_star, Gtr_X, Gtr_Y, Gval_X, Gval_Y)\n",
    "print(\"average:\", np.mean(scores))"
   ]
  },
  {
   "cell_type": "code",
   "execution_count": 9,
   "metadata": {},
   "outputs": [
    {
     "name": "stdout",
     "output_type": "stream",
     "text": [
      "Genomic (test) k=7 ROC AUC:  0.5210478151452757\n"
     ]
    },
    {
     "data": {
      "text/plain": [
       "0.5210478151452757"
      ]
     },
     "execution_count": 9,
     "metadata": {},
     "output_type": "execute_result"
    }
   ],
   "source": [
    "clf = KNeighborsClassifier(n_neighbors=7)\n",
    "roc_score(clf, 'Genomic (test) k=7', G_X, G_Y, Gt_X, Gt_Y)"
   ]
  },
  {
   "cell_type": "markdown",
   "metadata": {},
   "source": [
    "# SGD, alpha=0.95"
   ]
  },
  {
   "cell_type": "code",
   "execution_count": 10,
   "metadata": {},
   "outputs": [
    {
     "name": "stdout",
     "output_type": "stream",
     "text": [
      "Clinical (validation) lambda=0.007663410868007455 ROC AUC:  0.7055555555555556\n",
      "Clinical (validation) lambda=0.02582618760682675 ROC AUC:  0.6313725490196078\n",
      "Clinical (validation) lambda=0.02582618760682675 ROC AUC:  0.6313725490196078\n",
      "Clinical (validation) lambda=0.049370478528390035 ROC AUC:  0.6557734204793028\n",
      "Clinical (validation) lambda=0.012458833642950081 ROC AUC:  0.7004357298474946\n",
      "average: 0.6649019607843137\n"
     ]
    }
   ],
   "source": [
    "scores = np.zeros(5)\n",
    "for i, filename in enumerate(glob.glob('CV/SGD_0.95/*clinical*.txt')):\n",
    "    with open(filename, 'r') as file:\n",
    "        p_star, p_opt = file.readline().split()\n",
    "        clf = SGDClassifier(alpha=float(p_star), loss='log', penalty='elasticnet', l1_ratio=0.95, shuffle=False, random_state=43)\n",
    "        scores[i] = roc_score(clf, 'Clinical (validation) lambda='+p_star, Ctr_X, Ctr_Y, Cval_X, Cval_Y)\n",
    "print(\"average:\", np.mean(scores))"
   ]
  },
  {
   "cell_type": "code",
   "execution_count": 11,
   "metadata": {},
   "outputs": [
    {
     "name": "stdout",
     "output_type": "stream",
     "text": [
      "Clinical (test) lambda=0.0124 ROC AUC:  0.6482498284145505\n"
     ]
    },
    {
     "data": {
      "text/plain": [
       "0.6482498284145505"
      ]
     },
     "execution_count": 11,
     "metadata": {},
     "output_type": "execute_result"
    }
   ],
   "source": [
    "clf = SGDClassifier(alpha=0.012458833642950081, loss='log', penalty='elasticnet', l1_ratio=0.95, shuffle=False)\n",
    "roc_score(clf, 'Clinical (test) lambda=0.0124', C_X, C_Y, Ct_X, Ct_Y)"
   ]
  },
  {
   "cell_type": "code",
   "execution_count": 12,
   "metadata": {},
   "outputs": [
    {
     "name": "stdout",
     "output_type": "stream",
     "text": [
      "Genomic (validation) lambda=0.0015167168884709225 ROC AUC:  0.6056644880174292\n",
      "Genomic (validation) lambda=0.002097046401323233 ROC AUC:  0.6072984749455337\n",
      "Genomic (validation) lambda=0.00651733960488242 ROC AUC:  0.6014161220043572\n",
      "Genomic (validation) lambda=0.005111433483440166 ROC AUC:  0.5837690631808279\n",
      "Genomic (validation) lambda=0.0036969127071950283 ROC AUC:  0.6056644880174292\n",
      "average: 0.6007625272331154\n"
     ]
    }
   ],
   "source": [
    "scores = np.zeros(5)\n",
    "for i, filename in enumerate(glob.glob('CV/SGD_0.95/*genomic*.txt')):\n",
    "    with open(filename, 'r') as file:\n",
    "        p_star, p_opt = file.readline().split()\n",
    "        clf = SGDClassifier(alpha=float(p_star), loss='log', penalty='elasticnet', l1_ratio=0.95, shuffle=False, random_state=43)\n",
    "        scores[i] = roc_score(clf, 'Genomic (validation) lambda='+p_star, Gtr_X, Gtr_Y, Gval_X, Gval_Y)\n",
    "print(\"average:\", np.mean(scores))"
   ]
  },
  {
   "cell_type": "code",
   "execution_count": 13,
   "metadata": {},
   "outputs": [
    {
     "name": "stdout",
     "output_type": "stream",
     "text": [
      "Genomic (test) lambda=0.00209 ROC AUC:  0.6196522534889042\n"
     ]
    },
    {
     "data": {
      "text/plain": [
       "0.6196522534889042"
      ]
     },
     "execution_count": 13,
     "metadata": {},
     "output_type": "execute_result"
    }
   ],
   "source": [
    "clf = SGDClassifier(alpha=0.002097046401323233, loss='log', penalty='elasticnet', l1_ratio=0.95, shuffle=False, random_state=43)\n",
    "roc_score(clf, 'Genomic (test) lambda=0.00209', G_X, G_Y, Gt_X, Gt_Y)"
   ]
  },
  {
   "cell_type": "markdown",
   "metadata": {},
   "source": [
    "# Linear SVC"
   ]
  },
  {
   "cell_type": "code",
   "execution_count": 14,
   "metadata": {},
   "outputs": [
    {
     "name": "stdout",
     "output_type": "stream",
     "text": [
      "Clinical (validation) C=0.0093260334688322 ROC AUC:  0.6742919389978214\n",
      "Clinical (validation) C=0.004862601580065354 ROC AUC:  0.6465141612200436\n",
      "Clinical (validation) C=0.004862601580065354 ROC AUC:  0.6465141612200436\n",
      "Clinical (validation) C=0.010974987654930556 ROC AUC:  0.6742919389978214\n",
      "Clinical (validation) C=0.01788649529057435 ROC AUC:  0.7113289760348583\n",
      "average: 0.6705882352941176\n"
     ]
    }
   ],
   "source": [
    "scores = np.zeros(5)\n",
    "for i, filename in enumerate(glob.glob('CV/SVC_linear/*clinical*.txt')):\n",
    "    with open(filename, 'r') as file:\n",
    "        p_star, p_opt = file.readline().split()\n",
    "        clf = SVC(kernel='linear', random_state=0, C=float(p_star))\n",
    "        scores[i] = roc_score(clf, 'Clinical (validation) C='+p_star, Ctr_X, Ctr_Y, Cval_X, Cval_Y)\n",
    "print('average:', np.mean(scores))"
   ]
  },
  {
   "cell_type": "code",
   "execution_count": null,
   "metadata": {},
   "outputs": [
    {
     "name": "stdout",
     "output_type": "stream",
     "text": [
      "Clinical (test) C=0.0179 ROC AUC:  0.659116906886296\n"
     ]
    },
    {
     "data": {
      "text/plain": [
       "0.659116906886296"
      ]
     },
     "execution_count": 15,
     "metadata": {},
     "output_type": "execute_result"
    }
   ],
   "source": [
    "clf = SVC(kernel='linear', random_state=0, C=0.01788649529057435)\n",
    "roc_score(clf, 'Clinical (test) C=0.0179', C_X, C_Y, Ct_X, Ct_Y)"
   ]
  },
  {
   "cell_type": "code",
   "execution_count": 6,
   "metadata": {},
   "outputs": [
    {
     "name": "stdout",
     "output_type": "stream",
     "text": [
      "Genomic (validation) C=2.559547922699533e-05 ROC AUC:  0.6238562091503268\n",
      "Genomic (validation) C=1.2648552168552958e-05 ROC AUC:  0.583442265795207\n",
      "Genomic (validation) C=1.5998587196060572e-05 ROC AUC:  0.5893246187363834\n",
      "Genomic (validation) C=3.237457542817647e-05 ROC AUC:  0.6272331154684095\n",
      "Genomic (validation) C=1.2648552168552958e-05 ROC AUC:  0.583442265795207\n",
      "average: 0.6014596949891067\n"
     ]
    }
   ],
   "source": [
    "scores = np.zeros(5)\n",
    "for i, filename in enumerate(glob.glob('CV/SVC_linear/*genomic*.txt')):\n",
    "    with open(filename, 'r') as file:\n",
    "        p_star, p_opt = file.readline().split()\n",
    "        clf = SVC(kernel='linear', random_state=0, C=float(p_star))\n",
    "        scores[i] = roc_score(clf, 'Genomic (validation) C='+p_star, Gtr_X, Gtr_Y, Gval_X, Gval_Y)\n",
    "print('average:', np.mean(scores))"
   ]
  },
  {
   "cell_type": "code",
   "execution_count": 7,
   "metadata": {},
   "outputs": [
    {
     "name": "stdout",
     "output_type": "stream",
     "text": [
      "Genomic (test) C=3.237 ROC AUC:  0.6054678563257835\n"
     ]
    },
    {
     "data": {
      "text/plain": [
       "0.6054678563257835"
      ]
     },
     "execution_count": 7,
     "metadata": {},
     "output_type": "execute_result"
    }
   ],
   "source": [
    "clf = SVC(kernel='linear', random_state=0, C=3.237457542817647e-05)\n",
    "roc_score(clf, 'Genomic (test) C=3.237', G_X, G_Y, Gt_X, Gt_Y)"
   ]
  },
  {
   "cell_type": "markdown",
   "metadata": {},
   "source": [
    "# RBF SVC"
   ]
  },
  {
   "cell_type": "code",
   "execution_count": 8,
   "metadata": {},
   "outputs": [
    {
     "name": "stdout",
     "output_type": "stream",
     "text": [
      "Clinical (validation) C=1.0985411419875584 ROC AUC:  0.6877995642701525\n",
      "Clinical (validation) C=0.8685113737513529 ROC AUC:  0.6625272331154685\n",
      "Clinical (validation) C=0.5428675439323859 ROC AUC:  0.6498910675381263\n",
      "Clinical (validation) C=1.757510624854793 ROC AUC:  0.7004357298474946\n",
      "Clinical (validation) C=0.8685113737513529 ROC AUC:  0.6625272331154685\n",
      "average: 0.6726361655773421\n"
     ]
    }
   ],
   "source": [
    "scores = np.zeros(5)\n",
    "for i, filename in enumerate(glob.glob('CV/SVC_rbf/*clinical*.txt')):\n",
    "    with open(filename, 'r') as file:\n",
    "        p_star, p_opt = file.readline().split()\n",
    "        clf = SVC(kernel='rbf', random_state=0, C=float(p_star))\n",
    "        scores[i] = roc_score(clf, 'Clinical (validation) C='+p_star, Ctr_X, Ctr_Y, Cval_X, Cval_Y)\n",
    "print('average:', np.mean(scores))"
   ]
  },
  {
   "cell_type": "code",
   "execution_count": 9,
   "metadata": {},
   "outputs": [
    {
     "name": "stdout",
     "output_type": "stream",
     "text": [
      "Clinical (test) C=1.757 ROC AUC:  0.6482498284145505\n"
     ]
    },
    {
     "data": {
      "text/plain": [
       "0.6482498284145505"
      ]
     },
     "execution_count": 9,
     "metadata": {},
     "output_type": "execute_result"
    }
   ],
   "source": [
    "clf = SVC(kernel='rbf', random_state=0, C=1.757510624854793)\n",
    "roc_score(clf, 'Clinical (test) C=1.757', C_X, C_Y, Ct_X, Ct_Y)"
   ]
  },
  {
   "cell_type": "code",
   "execution_count": 10,
   "metadata": {},
   "outputs": [
    {
     "name": "stdout",
     "output_type": "stream",
     "text": [
      "Genomic (validation) C=1.3894954943731375 ROC AUC:  0.6019607843137255\n",
      "Genomic (validation) C=1.3894954943731375 ROC AUC:  0.6019607843137255\n",
      "Genomic (validation) C=2.2229964825261956 ROC AUC:  0.6213507625272332\n",
      "Genomic (validation) C=1.3894954943731375 ROC AUC:  0.6019607843137255\n",
      "Genomic (validation) C=1.0985411419875584 ROC AUC:  0.5985838779956427\n",
      "average: 0.6051633986928104\n"
     ]
    }
   ],
   "source": [
    "scores = np.zeros(5)\n",
    "for i, filename in enumerate(glob.glob('CV/SVC_rbf/*genomic*.txt')):\n",
    "    with open(filename, 'r') as file:\n",
    "        p_star, p_opt = file.readline().split()\n",
    "        clf = SVC(kernel='rbf', random_state=0, C=float(p_star))\n",
    "        scores[i] = roc_score(clf, 'Genomic (validation) C='+p_star, Gtr_X, Gtr_Y, Gval_X, Gval_Y)\n",
    "print('average:', np.mean(scores))"
   ]
  },
  {
   "cell_type": "code",
   "execution_count": 11,
   "metadata": {},
   "outputs": [
    {
     "name": "stdout",
     "output_type": "stream",
     "text": [
      "Genomic (test) C=2.22 ROC AUC:  0.5681766186227407\n"
     ]
    },
    {
     "data": {
      "text/plain": [
       "0.5681766186227407"
      ]
     },
     "execution_count": 11,
     "metadata": {},
     "output_type": "execute_result"
    }
   ],
   "source": [
    "clf = SVC(kernel='rbf', random_state=0, C=2.2229964825261956)\n",
    "roc_score(clf, 'Genomic (test) C=2.22', G_X, G_Y, Gt_X, Gt_Y)"
   ]
  },
  {
   "cell_type": "markdown",
   "metadata": {},
   "source": [
    "# MLP"
   ]
  },
  {
   "cell_type": "code",
   "execution_count": 12,
   "metadata": {},
   "outputs": [
    {
     "name": "stdout",
     "output_type": "stream",
     "text": [
      "Clinical (validation) lambda=5.872786613189477 ROC AUC:  0.7004357298474946\n",
      "Clinical (validation) lambda=2.2219468609395236 ROC AUC:  0.6827886710239652\n",
      "Clinical (validation) lambda=3.9171014908092605 ROC AUC:  0.6827886710239652\n",
      "Clinical (validation) lambda=12.17382727739662 ROC AUC:  0.6659041394335512\n",
      "Clinical (validation) lambda=3.0721129988617593 ROC AUC:  0.6827886710239652\n",
      "average: 0.6829411764705883\n"
     ]
    }
   ],
   "source": [
    "scores = np.zeros(5)\n",
    "for i, filename in enumerate(glob.glob('CV/MLP/*clinical*.txt')):\n",
    "    with open(filename, 'r') as file:\n",
    "        p_star, p_opt = file.readline().split()\n",
    "        clf = MLPClassifier(solver='sgd', alpha=float(p_star), hidden_layer_sizes=(70), random_state=43)\n",
    "        scores[i] = roc_score(clf, 'Clinical (validation) lambda='+p_star, Ctr_X, Ctr_Y, Cval_X, Cval_Y)\n",
    "print('average:', np.mean(scores))"
   ]
  },
  {
   "cell_type": "code",
   "execution_count": 13,
   "metadata": {},
   "outputs": [
    {
     "name": "stdout",
     "output_type": "stream",
     "text": [
      "Clinical (test) lambda=5.872 ROC AUC:  0.653854953099977\n"
     ]
    },
    {
     "data": {
      "text/plain": [
       "0.653854953099977"
      ]
     },
     "execution_count": 13,
     "metadata": {},
     "output_type": "execute_result"
    }
   ],
   "source": [
    "clf = MLPClassifier(solver='sgd', alpha=5.872786613189477, hidden_layer_sizes=(70), random_state=43)\n",
    "roc_score(clf, 'Clinical (test) lambda=5.872', C_X, C_Y, Ct_X, Ct_Y)"
   ]
  },
  {
   "cell_type": "code",
   "execution_count": 14,
   "metadata": {},
   "outputs": [
    {
     "name": "stdout",
     "output_type": "stream",
     "text": [
      "Genomic (validation) lambda=1.2648552168552958e-05 ROC AUC:  0.6264705882352941\n",
      "Genomic (validation) lambda=1.2648552168552958e-05 ROC AUC:  0.6264705882352941\n",
      "Genomic (validation) lambda=1.2648552168552958e-05 ROC AUC:  0.6264705882352941\n",
      "Genomic (validation) lambda=1.2648552168552958e-05 ROC AUC:  0.6264705882352941\n",
      "Genomic (validation) lambda=2.0235896477251556e-05 ROC AUC:  0.6264705882352941\n",
      "average: 0.6264705882352941\n"
     ]
    }
   ],
   "source": [
    "scores = np.zeros(5)\n",
    "for i, filename in enumerate(glob.glob('CV/MLP/*genomic*.txt')):\n",
    "    with open(filename, 'r') as file:\n",
    "        p_star, p_opt = file.readline().split()\n",
    "        clf = MLPClassifier(solver='sgd', alpha=float(p_opt), hidden_layer_sizes=(70), random_state=43)\n",
    "        scores[i] = roc_score(clf, 'Genomic (validation) lambda='+p_star, Gtr_X, Gtr_Y, Gval_X, Gval_Y)\n",
    "print('average:', np.mean(scores))"
   ]
  },
  {
   "cell_type": "code",
   "execution_count": 15,
   "metadata": {},
   "outputs": [
    {
     "name": "stdout",
     "output_type": "stream",
     "text": [
      "Genomic (test) alpha=1.26e-05 ROC AUC:  0.578586135895676\n"
     ]
    },
    {
     "data": {
      "text/plain": [
       "0.578586135895676"
      ]
     },
     "execution_count": 15,
     "metadata": {},
     "output_type": "execute_result"
    }
   ],
   "source": [
    "clf = MLPClassifier(solver='sgd', alpha=1.2648552168552958e-05, hidden_layer_sizes=(70), random_state=43)\n",
    "roc_score(clf, 'Genomic (test) alpha=1.26e-05', G_X, G_Y, Gt_X, Gt_Y)"
   ]
  },
  {
   "cell_type": "markdown",
   "metadata": {},
   "source": [
    "# Random Forest"
   ]
  },
  {
   "cell_type": "code",
   "execution_count": 16,
   "metadata": {},
   "outputs": [
    {
     "name": "stdout",
     "output_type": "stream",
     "text": [
      "Clinical (validation) n_estimators=199 ROC AUC:  0.6583877995642702\n",
      "Clinical (validation) n_estimators=173 ROC AUC:  0.6735294117647058\n",
      "Clinical (validation) n_estimators=200 ROC AUC:  0.6583877995642702\n",
      "Clinical (validation) n_estimators=135 ROC AUC:  0.6676470588235294\n",
      "Clinical (validation) n_estimators=200 ROC AUC:  0.6583877995642702\n",
      "average: 0.6632679738562091\n"
     ]
    }
   ],
   "source": [
    "scores = np.zeros(5)\n",
    "for i, filename in enumerate(glob.glob('CV/RandomForest/*clinical*.txt')):\n",
    "    with open(filename, 'r') as file:\n",
    "        p_star, p_opt = file.readline().split()\n",
    "        clf = RandomForestClassifier(n_estimators=int(p_star), criterion='entropy', random_state=43)\n",
    "        scores[i] = roc_score(clf, 'Clinical (validation) n_estimators='+p_star, Ctr_X, Ctr_Y, Cval_X, Cval_Y)\n",
    "print('average:', np.mean(scores))"
   ]
  },
  {
   "cell_type": "code",
   "execution_count": 17,
   "metadata": {},
   "outputs": [
    {
     "name": "stdout",
     "output_type": "stream",
     "text": [
      "Genomic (test) n_estimators=173 ROC AUC:  0.5950583390528482\n"
     ]
    },
    {
     "data": {
      "text/plain": [
       "0.5950583390528482"
      ]
     },
     "execution_count": 17,
     "metadata": {},
     "output_type": "execute_result"
    }
   ],
   "source": [
    "clf = RandomForestClassifier(n_estimators=173, criterion='entropy', random_state=43)\n",
    "roc_score(clf, 'Genomic (test) n_estimators=173', C_X, C_Y, Ct_X, Ct_Y)"
   ]
  },
  {
   "cell_type": "code",
   "execution_count": 18,
   "metadata": {},
   "outputs": [
    {
     "name": "stdout",
     "output_type": "stream",
     "text": [
      "Genomic (test) n_estimators=173 ROC AUC:  0.5205902539464654\n"
     ]
    },
    {
     "data": {
      "text/plain": [
       "0.5205902539464654"
      ]
     },
     "execution_count": 18,
     "metadata": {},
     "output_type": "execute_result"
    }
   ],
   "source": [
    "clf = RandomForestClassifier(n_estimators=173, criterion='entropy', random_state=43)\n",
    "roc_score(clf, 'Genomic (test) n_estimators=173', G_X, G_Y, Gt_X, Gt_Y)"
   ]
  },
  {
   "cell_type": "markdown",
   "metadata": {},
   "source": [
    "# Stretch: Elastic Net, alpha=1"
   ]
  },
  {
   "cell_type": "code",
   "execution_count": 26,
   "metadata": {},
   "outputs": [
    {
     "name": "stdout",
     "output_type": "stream",
     "text": [
      "Clinical (validation) lambda=100.0 ROC AUC:  0.6650326797385621\n",
      "Clinical (validation) lambda=3.0721129988617593 ROC AUC:  0.7450980392156862\n",
      "Clinical (validation) lambda=12.17382727739662 ROC AUC:  0.6407407407407407\n",
      "Clinical (validation) lambda=8.119844993184008 ROC AUC:  0.7240740740740741\n",
      "Clinical (validation) lambda=9.547716114208066 ROC AUC:  0.6861655773420481\n",
      "average: 0.6922222222222223\n"
     ]
    }
   ],
   "source": [
    "scores = np.zeros(5)\n",
    "for i, filename in enumerate(glob.glob('CV/RegLR_1/*clinical*.txt')):\n",
    "    with open(filename, 'r') as file:\n",
    "        p_star, p_opt = file.readline().split()\n",
    "        clf = RegularizedLogisticRegression.LogisticRegressionClassifier(reg_coeff=float(p_star), l1_ratio=1)\n",
    "        scores[i] = roc_score(clf, 'Clinical (validation) lambda='+p_star, Ctr_X, Ctr_Y, Cval_X, Cval_Y)\n",
    "print(\"average:\", np.mean(scores))"
   ]
  },
  {
   "cell_type": "code",
   "execution_count": 27,
   "metadata": {},
   "outputs": [
    {
     "name": "stdout",
     "output_type": "stream",
     "text": [
      "Clinical (test) lambda=3.072 ROC AUC:  0.6158773735987187\n"
     ]
    },
    {
     "data": {
      "text/plain": [
       "0.6158773735987187"
      ]
     },
     "execution_count": 27,
     "metadata": {},
     "output_type": "execute_result"
    }
   ],
   "source": [
    "clf = RegularizedLogisticRegression.LogisticRegressionClassifier(reg_coeff=3.0721129988617593, l1_ratio=1)\n",
    "roc_score(clf, 'Clinical (test) lambda=3.072', C_X, C_Y, Ct_X, Ct_Y)"
   ]
  },
  {
   "cell_type": "code",
   "execution_count": 29,
   "metadata": {
    "scrolled": true
   },
   "outputs": [
    {
     "name": "stdout",
     "output_type": "stream",
     "text": [
      "INTCLUST_1 had -11011.480799 weight\n",
      "COHORT_5 had -8289.927339 weight\n",
      "INTCLUST_3 had -7379.974703 weight\n",
      "THREEGENE_2 had -7046.003777 weight\n",
      "THREEGENE_3 had -6456.089240 weight\n",
      "HISTOLOGICAL_SUBTYPE_2 had -6015.328896 weight\n",
      "INTCLUST_5 had -5990.397432 weight\n",
      "HISTOLOGICAL_SUBTYPE_7 had -5276.173470 weight\n",
      "ER_IHC_2 had -5144.016881 weight\n",
      "HER2_SNP6_2 had -4236.642200 weight\n",
      "INFERRED_MENOPAUSAL_STATE_0 had -4094.247374 weight\n",
      "CLAUDIN_SUBTYPE_6 had -4009.810037 weight\n",
      "BREAST_SURGERY_0 had -3903.893993 weight\n",
      "COHORT_4 had -3622.762824 weight\n",
      "CHEMOTHERAPY_0 had -3562.526584 weight\n",
      "INTCLUST_9 had -2941.769140 weight\n",
      "INTCLUST_8 had -2935.293974 weight\n",
      "ER_IHC_0 had -2909.613284 weight\n",
      "RADIO_THERAPY_1 had -2879.539958 weight\n",
      "COHORT_2 had -2833.075180 weight\n",
      "HISTOLOGICAL_SUBTYPE_8 had -1821.156978 weight\n",
      "CELLULARITY_3 had -1638.161069 weight\n",
      "LATERALITY_0 had -1427.555107 weight\n",
      "HISTOLOGICAL_SUBTYPE_6 had -1170.630621 weight\n",
      "BREAST_SURGERY_2 had -884.112994 weight\n",
      "HER2_SNP6_3 had -795.052937 weight\n",
      "HORMONE_THERAPY_1 had -696.193882 weight\n",
      "HISTOLOGICAL_SUBTYPE_0 had -580.103629 weight\n",
      "HISTOLOGICAL_SUBTYPE_3 had -432.935061 weight\n",
      "HISTOLOGICAL_SUBTYPE_4 had -228.484567 weight\n",
      "CELLULARITY_0 had 318.449332 weight\n",
      "HORMONE_THERAPY_0 had 696.193882 weight\n",
      "CELLULARITY_2 had 724.161332 weight\n",
      "HER2_SNP6_1 had 996.117211 weight\n",
      "COHORT_1 had 1398.194707 weight\n",
      "HISTOLOGICAL_SUBTYPE_5 had 2083.235474 weight\n",
      "INTCLUST_10 had 2712.060646 weight\n",
      "RADIO_THERAPY_0 had 2879.539958 weight\n",
      "THREEGENE_1 had 2994.030345 weight\n",
      "INTCLUST_4 had 3017.935371 weight\n",
      "CLAUDIN_SUBTYPE_0 had 3385.540323 weight\n",
      "HER2_SNP6_0 had 3442.078384 weight\n",
      "INTCLUST_7 had 3489.919079 weight\n",
      "CHEMOTHERAPY_1 had 3562.526584 weight\n",
      "CLAUDIN_SUBTYPE_5 had 3748.519192 weight\n",
      "BREAST_SURGERY_1 had 4088.798644 weight\n",
      "INFERRED_MENOPAUSAL_STATE_1 had 4094.247374 weight\n",
      "HISTOLOGICAL_SUBTYPE_1 had 4232.777849 weight\n",
      "INTCLUST_0 had 4675.055483 weight\n",
      "COHORT_3 had 7208.699816 weight\n",
      "INTCLUST_2 had 9347.125058 weight\n",
      "ER_IHC_1 had 9607.509606 weight\n",
      "CLAUDIN_SUBTYPE_3 had 9623.995033 weight\n",
      "CLAUDIN_SUBTYPE_1 had 10270.264782 weight\n",
      "NPI had 11567.009151 weight\n",
      "LATERALITY_2 had 12118.042960 weight\n",
      "THREEGENE_0 had 13240.634453 weight\n",
      "INTCLUST_6 had 17260.034178 weight\n",
      "AGE_AT_DIAGNOSIS had 20585.249115 weight\n",
      "LYMPH_NODES_EXAMINED_POSITIVE had 28653.002472 weight\n"
     ]
    }
   ],
   "source": [
    "ranks = np.argsort(clf.beta)\n",
    "for i in ranks:\n",
    "    if clf.beta[i] != 0:\n",
    "        print(\"%s had %f weight\" % (key[i], clf.beta[i]))"
   ]
  },
  {
   "cell_type": "code",
   "execution_count": 82,
   "metadata": {},
   "outputs": [
    {
     "name": "stdout",
     "output_type": "stream",
     "text": [
      "Clinical (validation) lambda=10.353218432956616 ROC AUC:  0.5962962962962963\n",
      "Clinical (validation) lambda=5.872786613189477 ROC AUC:  0.657843137254902\n",
      "Clinical (validation) lambda=16.83180353330955 ROC AUC:  0.5533769063180829\n",
      "Clinical (validation) lambda=14.314589375234785 ROC AUC:  0.6233115468409586\n",
      "Clinical (validation) lambda=10.353218432956616 ROC AUC:  0.5962962962962963\n",
      "average: 0.6054248366013072\n"
     ]
    }
   ],
   "source": [
    "scores = np.zeros(5)\n",
    "for i, filename in enumerate(glob.glob('CV/RegLR_1/*genomic*.txt')):\n",
    "    with open(filename, 'r') as file:\n",
    "        p_star, p_opt = file.readline().split()\n",
    "        clf = RegularizedLogisticRegression.LogisticRegressionClassifier(reg_coeff=float(p_star), l1_ratio=1)\n",
    "        scores[i] = roc_score(clf, 'Genomic (validation) lambda='+p_star, Gtr_X, Gtr_Y, Gval_X, Gval_Y)\n",
    "print(\"average:\", np.mean(scores))"
   ]
  },
  {
   "cell_type": "code",
   "execution_count": 83,
   "metadata": {},
   "outputs": [
    {
     "name": "stdout",
     "output_type": "stream",
     "text": [
      "Genomic (test) lambda=14.31 ROC AUC:  0.5290551361244566\n"
     ]
    },
    {
     "data": {
      "text/plain": [
       "0.5290551361244566"
      ]
     },
     "execution_count": 83,
     "metadata": {},
     "output_type": "execute_result"
    }
   ],
   "source": [
    "clf = RegularizedLogisticRegression.LogisticRegressionClassifier(reg_coeff=14.314589375234785, l1_ratio=1)\n",
    "roc_score(clf, 'Genomic (test) lambda=14.31', G_X, G_Y, Gt_X, Gt_Y)"
   ]
  },
  {
   "cell_type": "markdown",
   "metadata": {
    "collapsed": true
   },
   "source": [
    "# Sklearn: Elastic Net, alpha=1"
   ]
  },
  {
   "cell_type": "code",
   "execution_count": 30,
   "metadata": {},
   "outputs": [
    {
     "name": "stdout",
     "output_type": "stream",
     "text": [
      "Clinical (validation) lambda=0.030367711180354574 ROC AUC:  0.6684095860566449\n",
      "Clinical (validation) lambda=0.023816855519761582 ROC AUC:  0.6465141612200436\n",
      "Clinical (validation) lambda=0.02582618760682675 ROC AUC:  0.6372549019607843\n",
      "Clinical (validation) lambda=0.049370478528390035 ROC AUC:  0.6431372549019607\n",
      "Clinical (validation) lambda=0.038720387818125535 ROC AUC:  0.6684095860566449\n",
      "average: 0.6527450980392157\n"
     ]
    }
   ],
   "source": [
    "scores = np.zeros(5)\n",
    "for i, filename in enumerate(glob.glob('CV/SGD_1/*clinical*.txt')):\n",
    "    with open(filename, 'r') as file:\n",
    "        p_star, p_opt = file.readline().split()\n",
    "        clf = SGDClassifier(alpha=float(p_star), loss='log', penalty='elasticnet', l1_ratio=1, shuffle=False, random_state=43)\n",
    "        scores[i] = roc_score(clf, 'Clinical (validation) lambda='+p_star, Ctr_X, Ctr_Y, Cval_X, Cval_Y)\n",
    "print(\"average:\", np.mean(scores))"
   ]
  },
  {
   "cell_type": "code",
   "execution_count": 31,
   "metadata": {},
   "outputs": [
    {
     "name": "stdout",
     "output_type": "stream",
     "text": [
      "Clinical (test) lambda=3.072 ROC AUC:  0.6380690917410203\n"
     ]
    },
    {
     "data": {
      "text/plain": [
       "0.6380690917410203"
      ]
     },
     "execution_count": 31,
     "metadata": {},
     "output_type": "execute_result"
    }
   ],
   "source": [
    "clf = SGDClassifier(alpha=0.030367711180354574, loss='log', penalty='elasticnet', l1_ratio=1, shuffle=False, random_state=43)\n",
    "roc_score(clf, 'Clinical (test) lambda=3.072', C_X, C_Y, Ct_X, Ct_Y)"
   ]
  },
  {
   "cell_type": "code",
   "execution_count": 33,
   "metadata": {},
   "outputs": [
    {
     "name": "stdout",
     "output_type": "stream",
     "text": [
      "THREEGENE_1 had -0.199269 weight\n",
      "BREAST_SURGERY_0 had -0.094551 weight\n",
      "INTCLUST_3 had -0.073181 weight\n",
      "INTCLUST_2 had 0.039887 weight\n",
      "INTCLUST_6 had 0.144371 weight\n",
      "NPI had 0.294165 weight\n",
      "LYMPH_NODES_EXAMINED_POSITIVE had 0.382341 weight\n"
     ]
    }
   ],
   "source": [
    "ranks = np.argsort(clf.coef_[0])\n",
    "for i in ranks:\n",
    "    if clf.coef_[0][i] != 0:\n",
    "        print(\"%s had %f weight\" % (key[i], clf.coef_[0][i]))"
   ]
  },
  {
   "cell_type": "code",
   "execution_count": 22,
   "metadata": {},
   "outputs": [
    {
     "name": "stdout",
     "output_type": "stream",
     "text": [
      "Genomic (validation) lambda=0.0016446761779946644 ROC AUC:  0.5711328976034858\n",
      "Genomic (validation) lambda=0.008309941949353396 ROC AUC:  0.5896514161220043\n",
      "Genomic (validation) lambda=0.013509935211980266 ROC AUC:  0.6014161220043572\n",
      "Genomic (validation) lambda=0.004008806328898464 ROC AUC:  0.572004357298475\n",
      "Genomic (validation) lambda=6.985879746785249e-05 ROC AUC:  0.6183006535947713\n",
      "average: 0.5905010893246188\n"
     ]
    }
   ],
   "source": [
    "scores = np.zeros(5)\n",
    "for i, filename in enumerate(glob.glob('CV/SGD_1/*genomic*.txt')):\n",
    "    with open(filename, 'r') as file:\n",
    "        p_star, p_opt = file.readline().split()\n",
    "        clf = SGDClassifier(alpha=float(p_star), loss='log', penalty='elasticnet', l1_ratio=1, shuffle=False, random_state=43)\n",
    "        scores[i] = roc_score(clf, 'Genomic (validation) lambda='+p_star, Gtr_X, Gtr_Y, Gval_X, Gval_Y)\n",
    "print(\"average:\", np.mean(scores))"
   ]
  },
  {
   "cell_type": "code",
   "execution_count": 23,
   "metadata": {},
   "outputs": [
    {
     "name": "stdout",
     "output_type": "stream",
     "text": [
      "Genomic (test) lambda=3.072 ROC AUC:  0.5872797986730726\n"
     ]
    },
    {
     "data": {
      "text/plain": [
       "0.5872797986730726"
      ]
     },
     "execution_count": 23,
     "metadata": {},
     "output_type": "execute_result"
    }
   ],
   "source": [
    "clf = SGDClassifier(alpha=6.985879746785249e-05, loss='log', penalty='elasticnet', l1_ratio=1, shuffle=False, random_state=43)\n",
    "roc_score(clf, 'Genomic (test) lambda=3.072', G_X, G_Y, Gt_X, Gt_Y)"
   ]
  },
  {
   "cell_type": "code",
   "execution_count": null,
   "metadata": {
    "collapsed": true
   },
   "outputs": [],
   "source": []
  },
  {
   "cell_type": "code",
   "execution_count": 21,
   "metadata": {},
   "outputs": [
    {
     "data": {
      "text/plain": [
       "0.38848920863309355"
      ]
     },
     "execution_count": 21,
     "metadata": {},
     "output_type": "execute_result"
    }
   ],
   "source": [
    "sum(Cval_Y)/len(Cval_Y)"
   ]
  },
  {
   "cell_type": "code",
   "execution_count": 23,
   "metadata": {},
   "outputs": [
    {
     "data": {
      "text/plain": [
       "0.3357142857142857"
      ]
     },
     "execution_count": 23,
     "metadata": {},
     "output_type": "execute_result"
    }
   ],
   "source": [
    "sum(Ct_Y)/len(Ct_Y)"
   ]
  },
  {
   "cell_type": "code",
   "execution_count": null,
   "metadata": {
    "collapsed": true
   },
   "outputs": [],
   "source": []
  }
 ],
 "metadata": {
  "kernelspec": {
   "display_name": "Python 3",
   "language": "python",
   "name": "python3"
  },
  "language_info": {
   "codemirror_mode": {
    "name": "ipython",
    "version": 3
   },
   "file_extension": ".py",
   "mimetype": "text/x-python",
   "name": "python",
   "nbconvert_exporter": "python",
   "pygments_lexer": "ipython3",
   "version": "3.6.8"
  }
 },
 "nbformat": 4,
 "nbformat_minor": 2
}
